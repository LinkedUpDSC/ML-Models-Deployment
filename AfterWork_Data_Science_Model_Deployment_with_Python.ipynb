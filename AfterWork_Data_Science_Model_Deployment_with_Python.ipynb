{
  "nbformat": 4,
  "nbformat_minor": 0,
  "metadata": {
    "colab": {
      "name": "AfterWork Data Science: Model Deployment with Python",
      "provenance": [],
      "collapsed_sections": [
        "wkf-23gUwl0h",
        "7rptQjxnz0i_",
        "qmvaR9BD-BwA",
        "HlhdUw3YGaOB",
        "OKj-j8-19_Qx",
        "LbXb4UuzO2tb",
        "IjIStYW8O8KP",
        "i3E_CVPggVSl",
        "GHgY_gnykYQE",
        "c6gUOyQOk1y7",
        "qZdQlSPPrQxY",
        "pajzJiqTz4Cu"
      ],
      "toc_visible": true
    },
    "kernelspec": {
      "name": "python3",
      "display_name": "Python 3"
    }
  },
  "cells": [
    {
      "cell_type": "markdown",
      "metadata": {
        "id": "Tr1xMzRs0yfb"
      },
      "source": [
        "<font color=\"blue\">To use this notebook on Google Colaboratory, you will need to make a copy of it. Go to **File** > **Save a Copy in Drive**. You can then use the new copy that will appear in the new tab.</font>"
      ]
    },
    {
      "cell_type": "markdown",
      "metadata": {
        "id": "wkf-23gUwl0h"
      },
      "source": [
        "# AfterWork Data Science: Model Deployment with Python"
      ]
    },
    {
      "cell_type": "markdown",
      "metadata": {
        "id": "7rptQjxnz0i_"
      },
      "source": [
        "# Example "
      ]
    },
    {
      "cell_type": "markdown",
      "metadata": {
        "id": "QIyhGjfDxEck"
      },
      "source": [
        "We can decide to deploy our model using Flask as a Web application.\n",
        "\n",
        "The approach that we will use in this session will be to deploy our model in our local environment then later upload the project to the cloud.\n",
        "\n",
        "We will be required to create a project directory i.e. `diabetes` and have the following files.\n",
        "\n",
        "1. `random_forest_model.pkl`: This file will contain our model.\n",
        "2. `model.py`: This file will contain our python code to perform our model training.\n",
        "3. `app.py`: This file will contain the flask web application that will receive input, run it through our model, and give back the results. \n",
        "\n",
        "Let's create our project folder named `diabetes` in our desktop. Go through the following steps to perform our model deployment process.\n",
        "\n",
        "\n",
        "\n"
      ]
    },
    {
      "cell_type": "markdown",
      "metadata": {
        "id": "qmvaR9BD-BwA"
      },
      "source": [
        "## Step 1: Creating a our Model"
      ]
    },
    {
      "cell_type": "markdown",
      "metadata": {
        "id": "dfesKUfikick"
      },
      "source": [
        "**Reasearch Question:** \n",
        "\n",
        "You work for a hospital and are required to create deploy model that can predict whether or not a patient has diabetes, based on certain diagnostic measurements included in the dataset. You are also required to deploy your solution as a web service. For purposes of simplifying our example, we will skip some steps such steps i.e. data exploration, cleaning, preparation, feature engineeering, optimisation techniques etc. \n",
        "\n",
        "Dataset url = https://bit.ly/diabetesdataset"
      ]
    },
    {
      "cell_type": "code",
      "metadata": {
        "id": "ZsCf3naUwgGb"
      },
      "source": [
        "# Reasearch Question: You work for a hospital and are required to create a model \n",
        "# that can predict whether or not a patient has diabetes, based on certain \n",
        "# diagnostic measurements included in the dataset. \n",
        "# You are also required to deploy your solution as a web service.\n",
        "# ---\n",
        "# For purposes of simplifying our example, we will skip some steps such steps i.e.\n",
        "# data exploration, cleaning, preparation, feature engineeering, optimisation techniques etc. \n",
        "# ---\n",
        "# Dataset url = https://bit.ly/diabetesdataset\n",
        "# ---\n",
        "# OUR CODE GOES BELOW"
      ],
      "execution_count": null,
      "outputs": []
    },
    {
      "cell_type": "code",
      "metadata": {
        "id": "agBUC79l28ce"
      },
      "source": [
        "# Importing the required libraries\n",
        "# ---\n",
        "#\n",
        "import pandas as pd "
      ],
      "execution_count": null,
      "outputs": []
    },
    {
      "cell_type": "code",
      "metadata": {
        "id": "P1vSmyR33Dfz"
      },
      "source": [
        "# Importing and previewing our data\n",
        "# ---\n",
        "pima_df = pd.read_csv('https://bit.ly/diabetesdataset')\n",
        "pima_df.sample(5)"
      ],
      "execution_count": null,
      "outputs": []
    },
    {
      "cell_type": "code",
      "metadata": {
        "id": "xkV-H7iX23OY"
      },
      "source": [
        "# Selecting our predictor and response variables for modelling\n",
        "# ---\n",
        "#\n",
        "feature_cols = ['Pregnancies', 'Glucose', 'BloodPressure', 'SkinThickness', 'Insulin', 'BMI', 'DiabetesPedigreeFunction',\n",
        "                'Age']\n",
        "X = pima_df[feature_cols] \n",
        "y = pima_df.Outcome"
      ],
      "execution_count": null,
      "outputs": []
    },
    {
      "cell_type": "code",
      "metadata": {
        "id": "BCRNqAa056yr"
      },
      "source": [
        "# Splitting our dataset\n",
        "from sklearn.model_selection import train_test_split\n",
        "X_train, X_test, y_train, y_test = train_test_split(X, y, test_size=0.25, random_state=42)\n",
        "\n",
        "# Applying our model (this time a RandomForest regression model)\n",
        "from sklearn.ensemble import RandomForestClassifier \n",
        "random_forest_classifier = RandomForestClassifier() \n",
        "\n",
        "# Fitting our model\n",
        "random_forest_classifier.fit(X_train, y_train)\n",
        "\n",
        "# Making our Prediction\n",
        "random_forest_y_classifier = random_forest_classifier.predict(X_test) \n",
        "\n",
        "# Determining the accuracy of our model\n",
        "from sklearn.metrics import accuracy_score\n",
        "print(\"Random Forest Classifier\", accuracy_score(random_forest_y_classifier, y_test))"
      ],
      "execution_count": null,
      "outputs": []
    },
    {
      "cell_type": "markdown",
      "metadata": {
        "id": "lOeSI5XObJJj"
      },
      "source": [
        "We can export our model on colaboratory as shown below. However, because certain compatibility reasons that bring out errors, we will skip this exporting step and resolve to performing this step locally."
      ]
    },
    {
      "cell_type": "code",
      "metadata": {
        "id": "SncpgVIH3yWR"
      },
      "source": [
        "# Exporting our model\n",
        "# ---\n",
        "# We use the pickle library to export our model to a format \n",
        "# that can be used by a webservice (flask) for making predictions.\n",
        "# This is the pkl file. Once our `pkl` file has been downloaded, \n",
        "# we need to put it in the diabetes folder.\n",
        "# ---\n",
        "#\n",
        "import pickle\n",
        "pickle.dump(random_forest_classifier, open(\"random_forest_model.pkl\", \"wb\"))\n",
        "\n",
        "# Then download it from google colaboratory\n",
        "from google.colab import files\n",
        "files.download('random_forest_model.pkl')"
      ],
      "execution_count": null,
      "outputs": []
    },
    {
      "cell_type": "markdown",
      "metadata": {
        "id": "HlhdUw3YGaOB"
      },
      "source": [
        "#### **Exporting our model locally:**"
      ]
    },
    {
      "cell_type": "markdown",
      "metadata": {
        "id": "hgZ7MEo-duRN"
      },
      "source": [
        "1. We can put all the following code in a file named `model.py` within our `diabetes` folder. The\n",
        "\n",
        "\n",
        "\n"
      ]
    },
    {
      "cell_type": "code",
      "metadata": {
        "id": "vha1M7UbfAMH"
      },
      "source": [
        "# Importing the required libraries\n",
        "# ---\n",
        "#\n",
        "import pandas as pd \n",
        "\n",
        "# Importing and previewing our dataset\n",
        "# ---\n",
        "pima_df = pd.read_csv('diabetes.csv')\n",
        "pima_df.sample(5)\n",
        "\n",
        "\n",
        "# Selecting our predictor and response variables for modelling\n",
        "# ---\n",
        "#\n",
        "feature_cols = ['Pregnancies', 'Glucose', 'BloodPressure', 'SkinThickness', 'Insulin', 'BMI', 'DiabetesPedigreeFunction',\n",
        "                'Age']\n",
        "X = pima_df[feature_cols] \n",
        "y = pima_df.Outcome\n",
        "\n",
        "# Splitting our dataset\n",
        "from sklearn.model_selection import train_test_split\n",
        "X_train, X_test, y_train, y_test = train_test_split(X, y, test_size=0.25, random_state=42)\n",
        "\n",
        "# Applying our model (this time a RandomForest regression model)\n",
        "from sklearn.ensemble import RandomForestClassifier \n",
        "random_forest_classifier = RandomForestClassifier() \n",
        "\n",
        "# Fitting our model\n",
        "random_forest_classifier.fit(X_train, y_train)\n",
        "\n",
        "# Making our Prediction\n",
        "random_forest_y_classifier = random_forest_classifier.predict(X_test) \n",
        "\n",
        "# Determining the accuracy of our model\n",
        "from sklearn.metrics import accuracy_score\n",
        "print(\"Random Forest Classifier\", accuracy_score(random_forest_y_classifier, y_test))\n",
        "\n",
        "# Generating our pickle file\n",
        "import pickle\n",
        "pickle.dump(random_forest_classifier, open(\"random_forest_model.pkl\", \"wb\")) "
      ],
      "execution_count": null,
      "outputs": []
    },
    {
      "cell_type": "markdown",
      "metadata": {
        "id": "GqEzT4dpfA5c"
      },
      "source": [
        "2. With regards to our dataset, we can download the dataset from https://bit.ly/diabetesdataset, and put it within the diabetes folder. \n",
        "\n",
        "3. We will generate a pickle file, which we will do in step 3a below."
      ]
    },
    {
      "cell_type": "markdown",
      "metadata": {
        "id": "OKj-j8-19_Qx"
      },
      "source": [
        "## Step 2: Creating our Web Service"
      ]
    },
    {
      "cell_type": "markdown",
      "metadata": {
        "id": "U-Roy8Lu-J_9"
      },
      "source": [
        "We will first deploy our model locally then later deploy it in the cloud.\n",
        "\n",
        "With the assistance of Flask (which is a web framework), we will create a web page that we will use to get input data from users. This input will then be passed to our model and predictions will be made. Once these predictions have been made, they will be displayed back to the webpage.\n",
        "\n",
        "In this section, we will be required to create following two files in the `diabetes` directory. \n",
        "\n",
        "a. `index.html`: This will be the file that will contain all our webpage content. For this file, create a folder in the diabetes directory named `templates`. Then, store this file in that folder. Flask will know its stored there.\n",
        "\n",
        "b. `app.py`: This will be the file that will contain our flask web framework.\n",
        "\n",
        "To easen your process of working with the above files, you can use a basic text editor. We recommend using sublime text https://www.sublimetext.com/3."
      ]
    },
    {
      "cell_type": "markdown",
      "metadata": {
        "id": "LbXb4UuzO2tb"
      },
      "source": [
        "### a. Creating our Webpage"
      ]
    },
    {
      "cell_type": "markdown",
      "metadata": {
        "id": "3Z_bO0bbJKeu"
      },
      "source": [
        "The `index.html` file will contain the following code. This code will be in the HTML, CSS and Javascript languages. You might not be familiar with those languages. However, for now you can just scan through the files, don't worry about the details. There will be HTML comments will should assist in understanding what is happening."
      ]
    },
    {
      "cell_type": "markdown",
      "metadata": {
        "id": "8MVV84EfLd9Z"
      },
      "source": [
        "You then be reqruied to copy the following code and add it to the `index.html` file in the `diabetes` directory then save it. NB: Don't run the following cell in colab as its not python code."
      ]
    },
    {
      "cell_type": "code",
      "metadata": {
        "id": "zoMWFepoKQ6T"
      },
      "source": [
        "<!DOCTYPE html>\n",
        "<html> \n",
        "      <head>\n",
        "        <meta charset=\"UTF-8\">\n",
        "        <title>Predicting Diabetes Status</title>\n",
        "        <link href='https://fonts.googleapis.com/css?family=Pacifico' rel='stylesheet' type='text/css'>\n",
        "        <link href='https://fonts.googleapis.com/css?family=Arimo' rel='stylesheet' type='text/css'>\n",
        "        <link href='https://fonts.googleapis.com/css?family=Hind:300' rel='stylesheet' type='text/css'>\n",
        "        <link href='https://fonts.googleapis.com/css?family=Open+Sans+Condensed:300' rel='stylesheet' type='text/css'>\n",
        "        <link rel=\"stylesheet\" href=\"{{ url_for('static', filename='css/style.css') }}\">\n",
        "      </head>\n",
        "\n",
        "      <body>\n",
        "            <div style=\"margin-top:50px;\">\n",
        "              <h1>Predict Diabetes Status</h1>\n",
        "\n",
        "                <!-- We will create a form that will take our input data -->\n",
        "\n",
        "                <form action=\"{{ url_for('predict')}}\" method=\"post\">\n",
        "                    <input type=\"text\" name=\"Pregnancies\" placeholder=\"Pregnancies\" required=\"required\" />\n",
        "                    <input type=\"text\" name=\"Glucose\" placeholder=\"Glucose\" required=\"required\" />\n",
        "                    <input type=\"text\" name=\"BloodPressure\" placeholder=\"BloodPressure\" required=\"required\" />\n",
        "                    <input type=\"text\" name=\"SkinThickness\" placeholder=\"SkinThickness\" required=\"required\" />\n",
        "                    <input type=\"text\" name=\"Insulin\" placeholder=\"Insulin\" required=\"required\" />\n",
        "                    <input type=\"text\" name=\"BMI\" placeholder=\"BMI\" required=\"required\" />\n",
        "                    <input type=\"text\" name=\"DiabetesPedigreeFunction\" placeholder=\"DiabetesPedigreeFunction\" required=\"required\" />\n",
        "                    <input type=\"text\" name=\"Age\" placeholder=\"Age\" required=\"required\" />\n",
        "                    <button type=\"submit\" class=\"btn btn-primary btn-block btn-large\">Predict</button>\n",
        "                </form>\n",
        "\n",
        "              <br>\n",
        "              <br>\n",
        "              {{ prediction_text }}\n",
        "            </div>\n",
        "      </body>\n",
        "</html>"
      ],
      "execution_count": null,
      "outputs": []
    },
    {
      "cell_type": "markdown",
      "metadata": {
        "id": "IjIStYW8O8KP"
      },
      "source": [
        "### b. Creating our Server Code"
      ]
    },
    {
      "cell_type": "markdown",
      "metadata": {
        "id": "Zm9SFsirOgnC"
      },
      "source": [
        "In this section we will create the following file:\n",
        "\n",
        "\n",
        "*  `app.py`: We create `app.py` file in the `diabetes` folder. This file will contain our web application built through the use of the Flask Web framework.  "
      ]
    },
    {
      "cell_type": "markdown",
      "metadata": {
        "id": "i3E_CVPggVSl"
      },
      "source": [
        "#### Creating the Web application"
      ]
    },
    {
      "cell_type": "markdown",
      "metadata": {
        "id": "V9P5nGK-ghV5"
      },
      "source": [
        "We start by creating our web application during this step."
      ]
    },
    {
      "cell_type": "markdown",
      "metadata": {
        "id": "S4v0apV0QLPj"
      },
      "source": [
        "NB: A **web framework** is a code library that makes web development faster and easier by providing common code repository for building reliable, scalable and maintainable web applications. There are many web frameworks in different programming languages. We will use the Flask web framework which is a common web framework created using the python programming language."
      ]
    },
    {
      "cell_type": "markdown",
      "metadata": {
        "id": "NrDFbX69Qi7J"
      },
      "source": [
        "Let's go through the following code (its in python). Once we're done, we can then copy the content in the app.py file then save it. Don't run this code in google colaboratory, its not code for analysis or modeling, its meant for deployment."
      ]
    },
    {
      "cell_type": "code",
      "metadata": {
        "id": "BIffNaOTPdJ-"
      },
      "source": [
        "# We will import our libraries \n",
        "# ---\n",
        "# Numpy for scientific computations\n",
        "# Flask - as our web framework which will provide the following web components \n",
        "# -> Flask           - core flask web components\n",
        "# -> request         - for information retrieval from our html file\n",
        "# -> jsonify         - for storing information in JSON Data. JSON Data is a format for passing data in the web.\n",
        "# -> render_template - for showing/rendering html files\n",
        "# -> Pickle          - for saving (serializing) and loading (de-serializing) our model\n",
        "# ---\n",
        "#\n",
        "import numpy as np\n",
        "from flask import Flask, request, jsonify, render_template\n",
        "import pickle\n",
        "\n",
        "# We now start using flask by creating an instance. This of this like what we did \n",
        "# when we create an instance of a model i.e. random_forest_classifier = RandomForestClassifier() \n",
        "# but now for Flask()\n",
        "app = Flask(__name__)\n",
        "\n",
        "# We then load our random_forest_model using the pickle library\n",
        "# ---\n",
        "# We use 'rb' because the type of file of our model is a binary type.\n",
        "# For ease of understanding we din't want to the details pickle files.\n",
        "# ---\n",
        "# \n",
        "model = pickle.load(open('random_forest_model.pkl', 'rb'))\n",
        "\n",
        "# We then start now creating our web application by starting with the route '/'\n",
        "# Our home function will return the index.html file that we created earlier.\n",
        "# ---\n",
        "#\n",
        "@app.route('/')\n",
        "def home():\n",
        "    return render_template('index.html')\n",
        "\n",
        "# The \n",
        "# ---\n",
        "# In web applications, you can create routes of different nature i.e. GET, POST, UPDATE, etc.\n",
        "# The GET method usually displays content in a webpage. \n",
        "# A route uses the GET method if not defined just as in the previous '/' method.\n",
        "# The POST method method is used to send and retrieve data from our web page to our server - vice versa.\n",
        "# In our case, if you have a look at the index.html form above, you will see that we are using the post method\n",
        "# as well as specifying the url/route i.e. predict that we want our form upon submission should act on.\n",
        "# <form action=\"{{ url_for('predict')}}\" method=\"post\">\n",
        "# ---\n",
        "# Let's quickly go through the following code that is executed once a user submits the form by clicking\n",
        "# the predict button. \n",
        "#\n",
        "@app.route('/predict', methods = ['POST'])\n",
        "def predict():\n",
        "    \n",
        "    # We get our input data (now features) from the index.html form.\n",
        "    # The method used in our case if one that iterates over the input fields in the form\n",
        "    int_features = [int(x) for x in request.form.values()]\n",
        "\n",
        "    # Then convert those features into a numpy array that our model understands\n",
        "    # During this step we could even perform feature engineering techniques\n",
        "    # to make sure our data is optimal for the model.\n",
        "    final_features = [np.array(int_features)]\n",
        "\n",
        "    # Then make our prediction for those features\n",
        "    prediction = model.predict(final_features)\n",
        "\n",
        "    # Round the predicted values to 2dp\n",
        "    outcome = round(prediction[0], 2)\n",
        "\n",
        "    # And return our predicted values to our index.html webpage, replacing the variable \n",
        "    # prediction_text rendered in our page with our outcome.\n",
        "    return render_template('index.html', prediction_text = outcome)\n",
        "\n",
        "# For now we are using the above two routes of '/' and '/predict' to achieve a simple web application\n",
        "# for a model solution that we deploy. If we wanted to have this web application to be used by other \n",
        "# web applications or even mobile applications, we can create the following route with a POST method\n",
        "# to get input from a user and then later pass it to a \n",
        "# This sort of rount would be what we would refer to as a Restful Application Programming Interface (Restful API).\n",
        "# A restful API would take input data and give output data in the form of an JSON format. \n",
        "# An example of JSON data looks like this: person = '{\"name\":\"John\", \"age\":31, \"city\":\"New York\"}'.\n",
        "# It has some similarites with python dictionaries but different. JSON format can be thought \n",
        "# of as a python dictionary that can be nested any number of times and passed over the web.\n",
        "# ---\n",
        "#\n",
        "@app.route('/predict_api', methods=['POST'])\n",
        "def predict_api():\n",
        "    \n",
        "    data = request.get_json(force=True)\n",
        "    prediction = model.predict([np.array(list(data.values()))])\n",
        "    output = prediction[0]\n",
        "\n",
        "    return jsonify(output)\n",
        "\n",
        "\n",
        "# Then we execute all the above code in our server\n",
        "if __name__ == \"__main__\":\n",
        "    \n",
        "    # While developing our solution, we also specify debug = True so that we \n",
        "    # get to see any errors that arise in our code.\n",
        "    # We can remove the debug parameter or set it as False if we don't want any errors displayed. \n",
        "    app.run(debug = True)"
      ],
      "execution_count": null,
      "outputs": []
    },
    {
      "cell_type": "markdown",
      "metadata": {
        "id": "GHgY_gnykYQE"
      },
      "source": [
        "## Step 3: Deploying our Web Service"
      ]
    },
    {
      "cell_type": "markdown",
      "metadata": {
        "id": "c6gUOyQOk1y7"
      },
      "source": [
        "### 3a. Local Deployment\n",
        "\n"
      ]
    },
    {
      "cell_type": "markdown",
      "metadata": {
        "id": "Z9QhjhN7lUl8"
      },
      "source": [
        "We will need to perform the following steps:\n",
        "\n",
        "\n",
        "1.   **Open the Command prompt on windows or Terminal in unix based operating systems:** Below are instructions for windows.\n",
        "\n",
        "* **Method 1:** Click the \"Start >> Program Files >> Accessories >> Command Prompt\" to open a Command Prompt session using just your mouse. \n",
        "* **Method 2:** Click the \"Start\" button and type \"cmd.\" Right-click \"Cmd,\"select \"Run as Administrator\" and click \"Yes\" to open Command Prompt with elevated privileges.\n",
        "\n",
        "\n",
        "2.   **Navigate to the `diabetes` folder:** You can use the following notes to get a sense of how you do this. \n",
        "\n",
        "* This command enables you to change the current directory or, in other words, to navigate to another folder from your PC. For instance, the command `CD\\` takes you to the top of the directory tree. \n",
        "To see how it works, after you open the Command Prompt, type `cd\\` and press Enter on your keyboard. You should see how the `CD\\` command takes you to the top of the directory tree.\n",
        "\n",
        "* The Command Prompt is not case sensitive, meaning that you can type commands using capital letters, lowercase or any combination of them. The commands `CD`, `cd` or `Cd`, all work the same way.\n",
        "\n",
        "* Going back to the `\"CD\\\"` command, now you are working on the root of the `\"C:\"` drive. If you need to go to a specific folder from this drive run the command `\"CD Folder.\"` The subfolders must be separated by a backslash character: `\"\\.\"` For instance, when you need to access the System32 folder located in `\"C:\\Windows,\"` type `\"cd windows\\system32\\\"` as shown below, and then press Enter on your keyboard.\n",
        "\n",
        "* When you need to go one folder up, use the `\"cd..\"` command. Let's assume that you want to go back to the Windows folder. Type `\"cd..\"` and press Enter on your keyboard.\n",
        "\n",
        "* Type `dir` to get a list of everything in your current directory.\n",
        "\n",
        "You can use the approach if you're a unix based user, but `ls` to get a list of everything in your current directory and `cd ../` to go to the lower directory.\n"
      ]
    },
    {
      "cell_type": "markdown",
      "metadata": {
        "id": "9VAAo0xyoxqc"
      },
      "source": [
        "Once you have navigated to the `diabetes` directory run the following lines of code individually. We have divided the following in Option A and Option B.\n",
        "\n"
      ]
    },
    {
      "cell_type": "markdown",
      "metadata": {
        "id": "IlJ2IMqEgljl"
      },
      "source": [
        "\n",
        "**1.** Run the following commands to install the required python libraries locally. Ensure you have installed python and pip or pip3 before running these commands in your command prompt/ terminal. (Python and windows users installation: [Link](https://www.liquidweb.com/kb/install-pip-windows/#:~:text=Once%20you've%20confirmed%20that,get%2Dpip.py%20installer.)), \n",
        "\n",
        "`pip install scikit-learn pandas numpy pickle-mixin flask tornado nose --user`\n",
        "\n",
        "or\n",
        "\n",
        "`pip3 install scikit-learn pandas numpy pickle-mixin flask tornado nose --user`\n",
        "\n",
        "Ensure that you have admin rights i.e. sudo while you're making the above installations.\n",
        "\n",
        "\n",
        "In the case that you do come accross any unexpected errors, read the errors then resolve them by either installing the require packages or byy researching the output error in the web. Errors are usually subjective and dependent on your local environment. You should find someone who has come accross the same error on the web, as well as a solution of how they went about the problem.\n",
        "\n",
        "\n",
        "**2.** Create the machine learning model by running below command. Ensure that you are in the `diabetes` home directory. This would create a `random_forest_model.pkl` file.\n",
        "\n",
        "`python3 model.py`\n",
        "\n",
        "If you get an error, make your installation of your packages individually.\n",
        "\n",
        "**3.** Run app.py using the following command to start our flask application:\n",
        "\n",
        "`python3 app.py`\n",
        "\n",
        "alternatively, if you have python3 installed, run: \n",
        "\n",
        "`python3 app.py`\n",
        "\n",
        "**4.** Upon doing this, you will be running your python web development server. To access your web application, you will need to copy/click the URL http://127.0.0.1:5000/ to your web browser and be able to use your model to make predictions.\n",
        "\n",
        "**5.** Enter valid numerical values in all input boxes and hit Predict. If all goes well you should be able to get an ouput value of either 0 or 1."
      ]
    },
    {
      "cell_type": "markdown",
      "metadata": {
        "id": "qZdQlSPPrQxY"
      },
      "source": [
        "### 3a. Cloud Deployment\n",
        "\n"
      ]
    },
    {
      "cell_type": "markdown",
      "metadata": {
        "id": "fWpq7ZVrrYM4"
      },
      "source": [
        "The next step is to deploy our web application to the cloud. This would allow us to use the web application via any device that has access the web. There are many cloud deployment solutions. In our case, we will use PythonAnywhere. (https://www.pythonanywhere.com/). The plaform will allows use to deploy or solution for educational purposes. You can also use this platform with advanced functionalities but upon upgrading your account.\n",
        "\n"
      ]
    },
    {
      "cell_type": "markdown",
      "metadata": {
        "id": "llxX0qCqtEO4"
      },
      "source": [
        "**Cloud Deployment Steps: **\n",
        "1. Create an account on PythonAnywhere.\n",
        "2. On PythonAnywhere: \n",
        "* Click the web tab to add a new web app.\n",
        "* Click Next\n",
        "* Click Flask then Python3.6\n",
        "* change the path name to `“/home/username/diabetes/app.py”`\n",
        "* Click Next to complete.\n",
        "\n",
        "3. In the files section of our account, navigate to the diabetes directory and delete the app.py file in the diabetes directory on PythonAnywhere.\n",
        "\n",
        "4. Upload each of the diabetes files in the diabetes  directory on PythonAnywhere. Remember also to create a templates directory and store the index.html file there.\n",
        "\n",
        "5. Now, we need to install the required packages just as we did locally by going to consoles, creating a bash console and using it to navigagte to our diabetes directory: Hint use: `ls` to show all files in that directory and `cd foldername` to nagivate into that folder. Then run the commands for installation of our packages just as we did in the local enviroment. Again you can resolve any errors that arise by first reading through the errors and searching those errors on the web.\n",
        "\n",
        "6. Reload Website in the web Tab. And view your website online at https://afterwork.pythonanywhere.com.\n",
        "Note: yours will be at https://your_username.pythonanywhere.com\n",
        "\n",
        "\n"
      ]
    },
    {
      "cell_type": "markdown",
      "metadata": {
        "id": "pajzJiqTz4Cu"
      },
      "source": [
        "# <font color=\"green\">Challenge</font>"
      ]
    },
    {
      "cell_type": "code",
      "metadata": {
        "id": "46C4jBhq0m58"
      },
      "source": [
        "# Challenge \n",
        "# ---\n",
        "# Deploy a model locally and in the cloud, that predicts the price of cars using the following dataset.\n",
        "# ---\n",
        "# Dataset url = http://bit.ly/CarPriceDataset\n",
        "# ---\n",
        "#"
      ],
      "execution_count": null,
      "outputs": []
    }
  ]
}